{
 "cells": [
  {
   "cell_type": "code",
   "execution_count": 42,
   "id": "37b5f301",
   "metadata": {},
   "outputs": [],
   "source": [
    "import pandas as pd\n",
    "from sklearn import model_selection, pipeline, linear_model\n",
    "from sklearn.preprocessing import OneHotEncoder\n",
    "from sklearn.compose import ColumnTransformer\n",
    "from sklearn.metrics import r2_score, mean_squared_error, mean_absolute_error\n",
    "import numpy as np"
   ]
  },
  {
   "cell_type": "code",
   "execution_count": 2,
   "id": "b84dfdef",
   "metadata": {},
   "outputs": [],
   "source": [
    "raw_data = pd.read_excel('../../data/raw_data.xlsx')"
   ]
  },
  {
   "cell_type": "code",
   "execution_count": 3,
   "id": "0aaf38e0",
   "metadata": {},
   "outputs": [],
   "source": [
    "data = raw_data[raw_data['JOB_TITLE'].str.contains('Technical Specialist')]"
   ]
  },
  {
   "cell_type": "code",
   "execution_count": 5,
   "id": "7167ebae",
   "metadata": {},
   "outputs": [
    {
     "data": {
      "text/html": [
       "<div>\n",
       "<style scoped>\n",
       "    .dataframe tbody tr th:only-of-type {\n",
       "        vertical-align: middle;\n",
       "    }\n",
       "\n",
       "    .dataframe tbody tr th {\n",
       "        vertical-align: top;\n",
       "    }\n",
       "\n",
       "    .dataframe thead th {\n",
       "        text-align: right;\n",
       "    }\n",
       "</style>\n",
       "<table border=\"1\" class=\"dataframe\">\n",
       "  <thead>\n",
       "    <tr style=\"text-align: right;\">\n",
       "      <th></th>\n",
       "      <th>REGISTRATION</th>\n",
       "      <th>BRANCH</th>\n",
       "      <th>AREA</th>\n",
       "      <th>NAME</th>\n",
       "      <th>GENDER</th>\n",
       "      <th>ETHNICITY</th>\n",
       "      <th>JOB_TITLE</th>\n",
       "      <th>SALARY</th>\n",
       "      <th>CONTRACT_TYPE</th>\n",
       "      <th>EDUCATION</th>\n",
       "      <th>PWD</th>\n",
       "      <th>CONTRACT_TIME</th>\n",
       "      <th>AGE_RANGE</th>\n",
       "      <th>CONTRACT_REGIME</th>\n",
       "    </tr>\n",
       "  </thead>\n",
       "  <tbody>\n",
       "    <tr>\n",
       "      <th>9</th>\n",
       "      <td>7161</td>\n",
       "      <td>Branch_4</td>\n",
       "      <td>Area_91</td>\n",
       "      <td>Sean Evans</td>\n",
       "      <td>M</td>\n",
       "      <td>WHITE</td>\n",
       "      <td>Technical Specialist Jr.</td>\n",
       "      <td>5312</td>\n",
       "      <td>Indefinite-Term</td>\n",
       "      <td>High School</td>\n",
       "      <td>0</td>\n",
       "      <td>5 - 10 Contract Years</td>\n",
       "      <td>35 - 40 Years</td>\n",
       "      <td>Monthly Contract</td>\n",
       "    </tr>\n",
       "    <tr>\n",
       "      <th>10</th>\n",
       "      <td>2734</td>\n",
       "      <td>Branch_4</td>\n",
       "      <td>Area_91</td>\n",
       "      <td>Diane Morales</td>\n",
       "      <td>M</td>\n",
       "      <td>BLACK</td>\n",
       "      <td>Technical Specialist Jr.</td>\n",
       "      <td>5214</td>\n",
       "      <td>Indefinite-Term</td>\n",
       "      <td>High School</td>\n",
       "      <td>0</td>\n",
       "      <td>&gt; 10 Contract Years</td>\n",
       "      <td>55 - 60 Years</td>\n",
       "      <td>Monthly Contract</td>\n",
       "    </tr>\n",
       "    <tr>\n",
       "      <th>11</th>\n",
       "      <td>3227</td>\n",
       "      <td>Branch_4</td>\n",
       "      <td>Area_91</td>\n",
       "      <td>Julia Taylor</td>\n",
       "      <td>M</td>\n",
       "      <td>HISPANIC</td>\n",
       "      <td>Technical Specialist Mid.</td>\n",
       "      <td>11870</td>\n",
       "      <td>Indefinite-Term</td>\n",
       "      <td>Bachelor's Degree</td>\n",
       "      <td>0</td>\n",
       "      <td>&gt; 10 Contract Years</td>\n",
       "      <td>&gt; 60 Years</td>\n",
       "      <td>Monthly Contract</td>\n",
       "    </tr>\n",
       "    <tr>\n",
       "      <th>39</th>\n",
       "      <td>10861</td>\n",
       "      <td>Branch_4</td>\n",
       "      <td>Area_90</td>\n",
       "      <td>Ronald Roberts</td>\n",
       "      <td>F</td>\n",
       "      <td>ASIAN</td>\n",
       "      <td>Technical Specialist Jr.</td>\n",
       "      <td>5747</td>\n",
       "      <td>Indefinite-Term</td>\n",
       "      <td>High School</td>\n",
       "      <td>0</td>\n",
       "      <td>&lt; 1 Contract Year</td>\n",
       "      <td>25 - 30 Years</td>\n",
       "      <td>Monthly Contract</td>\n",
       "    </tr>\n",
       "    <tr>\n",
       "      <th>40</th>\n",
       "      <td>7475</td>\n",
       "      <td>Branch_4</td>\n",
       "      <td>Area_90</td>\n",
       "      <td>Donna Flores</td>\n",
       "      <td>M</td>\n",
       "      <td>PREFER NOT TO SAY</td>\n",
       "      <td>Technical Specialist Sr.</td>\n",
       "      <td>18139</td>\n",
       "      <td>Indefinite-Term</td>\n",
       "      <td>Bachelor's Degree</td>\n",
       "      <td>0</td>\n",
       "      <td>3 - 5 Contract Years</td>\n",
       "      <td>55 - 60 Years</td>\n",
       "      <td>Monthly Contract</td>\n",
       "    </tr>\n",
       "  </tbody>\n",
       "</table>\n",
       "</div>"
      ],
      "text/plain": [
       "    REGISTRATION    BRANCH     AREA            NAME GENDER          ETHNICITY  \\\n",
       "9           7161  Branch_4  Area_91      Sean Evans      M              WHITE   \n",
       "10          2734  Branch_4  Area_91   Diane Morales      M              BLACK   \n",
       "11          3227  Branch_4  Area_91    Julia Taylor      M           HISPANIC   \n",
       "39         10861  Branch_4  Area_90  Ronald Roberts      F              ASIAN   \n",
       "40          7475  Branch_4  Area_90    Donna Flores      M  PREFER NOT TO SAY   \n",
       "\n",
       "                    JOB_TITLE  SALARY    CONTRACT_TYPE          EDUCATION  \\\n",
       "9    Technical Specialist Jr.    5312  Indefinite-Term        High School   \n",
       "10   Technical Specialist Jr.    5214  Indefinite-Term        High School   \n",
       "11  Technical Specialist Mid.   11870  Indefinite-Term  Bachelor's Degree   \n",
       "39   Technical Specialist Jr.    5747  Indefinite-Term        High School   \n",
       "40   Technical Specialist Sr.   18139  Indefinite-Term  Bachelor's Degree   \n",
       "\n",
       "    PWD          CONTRACT_TIME      AGE_RANGE   CONTRACT_REGIME  \n",
       "9     0  5 - 10 Contract Years  35 - 40 Years  Monthly Contract  \n",
       "10    0    > 10 Contract Years  55 - 60 Years  Monthly Contract  \n",
       "11    0    > 10 Contract Years     > 60 Years  Monthly Contract  \n",
       "39    0      < 1 Contract Year  25 - 30 Years  Monthly Contract  \n",
       "40    0   3 - 5 Contract Years  55 - 60 Years  Monthly Contract  "
      ]
     },
     "execution_count": 5,
     "metadata": {},
     "output_type": "execute_result"
    }
   ],
   "source": [
    "data.head()"
   ]
  },
  {
   "cell_type": "code",
   "execution_count": 6,
   "id": "859df9d2",
   "metadata": {},
   "outputs": [],
   "source": [
    "X = data[['GENDER','ETHNICITY','JOB_TITLE','CONTRACT_TYPE','EDUCATION','PWD','CONTRACT_TIME','AGE_RANGE','CONTRACT_REGIME']]\n",
    "y = data['SALARY']"
   ]
  },
  {
   "cell_type": "code",
   "execution_count": 11,
   "id": "16a22091",
   "metadata": {},
   "outputs": [],
   "source": [
    "X_train, X_test, y_train, y_test = model_selection.train_test_split(X, y, test_size=0.2, random_state=42)"
   ]
  },
  {
   "cell_type": "code",
   "execution_count": 13,
   "id": "2fac4029",
   "metadata": {},
   "outputs": [
    {
     "data": {
      "text/plain": [
       "(421, 9)"
      ]
     },
     "execution_count": 13,
     "metadata": {},
     "output_type": "execute_result"
    }
   ],
   "source": [
    "X_train.shape"
   ]
  },
  {
   "cell_type": "code",
   "execution_count": 14,
   "id": "199a95cd",
   "metadata": {},
   "outputs": [
    {
     "data": {
      "text/plain": [
       "(106, 9)"
      ]
     },
     "execution_count": 14,
     "metadata": {},
     "output_type": "execute_result"
    }
   ],
   "source": [
    "X_test.shape"
   ]
  },
  {
   "cell_type": "code",
   "execution_count": 32,
   "id": "325ce3d2",
   "metadata": {},
   "outputs": [],
   "source": [
    "categorical = ['GENDER','ETHNICITY','JOB_TITLE','CONTRACT_TYPE','EDUCATION','CONTRACT_TIME','AGE_RANGE','CONTRACT_REGIME']\n",
    "numerical = ['PWD']"
   ]
  },
  {
   "cell_type": "code",
   "execution_count": 35,
   "id": "14b178b4",
   "metadata": {},
   "outputs": [],
   "source": [
    "onehot = OneHotEncoder()\n",
    "regressor = linear_model.LinearRegression()"
   ]
  },
  {
   "cell_type": "code",
   "execution_count": 34,
   "id": "bf40ccf3",
   "metadata": {},
   "outputs": [],
   "source": [
    "preprocessing = ColumnTransformer(\n",
    "    transformers=[\n",
    "        ('categorical', OneHotEncoder(handle_unknown='ignore'), categorical),\n",
    "        ('numerical', 'passthrough', numerical)\n",
    "    ]\n",
    ")"
   ]
  },
  {
   "cell_type": "code",
   "execution_count": 36,
   "id": "08a983be",
   "metadata": {},
   "outputs": [],
   "source": [
    "model = pipeline.Pipeline(\n",
    "    steps=[\n",
    "        ('preprocessor', preprocessing),\n",
    "        ('algorithm',regressor)\n",
    "    ]\n",
    ")"
   ]
  },
  {
   "cell_type": "code",
   "execution_count": 37,
   "id": "abb824f7",
   "metadata": {},
   "outputs": [
    {
     "data": {
      "text/plain": [
       "Pipeline(steps=[('preprocessor',\n",
       "                 ColumnTransformer(transformers=[('categorical',\n",
       "                                                  OneHotEncoder(handle_unknown='ignore'),\n",
       "                                                  ['GENDER', 'ETHNICITY',\n",
       "                                                   'JOB_TITLE', 'CONTRACT_TYPE',\n",
       "                                                   'EDUCATION', 'CONTRACT_TIME',\n",
       "                                                   'AGE_RANGE',\n",
       "                                                   'CONTRACT_REGIME']),\n",
       "                                                 ('numerical', 'passthrough',\n",
       "                                                  ['PWD'])])),\n",
       "                ('algorithm', LinearRegression())])"
      ]
     },
     "execution_count": 37,
     "metadata": {},
     "output_type": "execute_result"
    }
   ],
   "source": [
    "model.fit(X_train, y_train)"
   ]
  },
  {
   "cell_type": "code",
   "execution_count": 43,
   "id": "509af12e",
   "metadata": {},
   "outputs": [],
   "source": [
    "y_train_predict = model.predict(X_train)"
   ]
  },
  {
   "cell_type": "code",
   "execution_count": 45,
   "id": "dc6b9e29",
   "metadata": {},
   "outputs": [
    {
     "name": "stdout",
     "output_type": "stream",
     "text": [
      "R²: 0.8850849116386232\n",
      "RMSE: 1806.197709061829\n",
      "MAE: 1268.6959785051477\n"
     ]
    }
   ],
   "source": [
    "print(\"R²:\", r2_score(y_train, y_train_predict))\n",
    "print(\"RMSE:\", np.sqrt(mean_squared_error(y_train, y_train_predict)))\n",
    "print(\"MAE:\", mean_absolute_error(y_train, y_train_predict))"
   ]
  }
 ],
 "metadata": {
  "kernelspec": {
   "display_name": "base",
   "language": "python",
   "name": "python3"
  },
  "language_info": {
   "codemirror_mode": {
    "name": "ipython",
    "version": 3
   },
   "file_extension": ".py",
   "mimetype": "text/x-python",
   "name": "python",
   "nbconvert_exporter": "python",
   "pygments_lexer": "ipython3",
   "version": "3.9.12"
  }
 },
 "nbformat": 4,
 "nbformat_minor": 5
}
