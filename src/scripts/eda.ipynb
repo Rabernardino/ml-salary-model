{
 "cells": [
  {
   "cell_type": "code",
   "execution_count": 1,
   "id": "dae20e64",
   "metadata": {},
   "outputs": [],
   "source": [
    "import pandas as pd\n",
    "import matplotlib.pyplot as plt\n",
    "import seaborn as sns"
   ]
  },
  {
   "cell_type": "code",
   "execution_count": 2,
   "id": "c7456cbc",
   "metadata": {},
   "outputs": [],
   "source": [
    "raw_data = pd.read_excel('../../data/raw_data.xlsx')"
   ]
  },
  {
   "cell_type": "code",
   "execution_count": 3,
   "id": "170175af",
   "metadata": {},
   "outputs": [
    {
     "data": {
      "text/html": [
       "<div>\n",
       "<style scoped>\n",
       "    .dataframe tbody tr th:only-of-type {\n",
       "        vertical-align: middle;\n",
       "    }\n",
       "\n",
       "    .dataframe tbody tr th {\n",
       "        vertical-align: top;\n",
       "    }\n",
       "\n",
       "    .dataframe thead th {\n",
       "        text-align: right;\n",
       "    }\n",
       "</style>\n",
       "<table border=\"1\" class=\"dataframe\">\n",
       "  <thead>\n",
       "    <tr style=\"text-align: right;\">\n",
       "      <th></th>\n",
       "      <th>REGISTRATION</th>\n",
       "      <th>BRANCH</th>\n",
       "      <th>AREA</th>\n",
       "      <th>NAME</th>\n",
       "      <th>GENDER</th>\n",
       "      <th>ETHNICITY</th>\n",
       "      <th>JOB_TITLE</th>\n",
       "      <th>SALARY</th>\n",
       "      <th>CONTRACT_TYPE</th>\n",
       "      <th>EDUCATION</th>\n",
       "      <th>PWD</th>\n",
       "      <th>CONTRACT_TIME</th>\n",
       "      <th>AGE_RANGE</th>\n",
       "      <th>CONTRACT_REGIME</th>\n",
       "    </tr>\n",
       "  </thead>\n",
       "  <tbody>\n",
       "    <tr>\n",
       "      <th>0</th>\n",
       "      <td>10881</td>\n",
       "      <td>Branch_4</td>\n",
       "      <td>Area_91</td>\n",
       "      <td>Joan Evans</td>\n",
       "      <td>M</td>\n",
       "      <td>HISPANIC</td>\n",
       "      <td>Driver Mid.</td>\n",
       "      <td>2271</td>\n",
       "      <td>Indefinite-Term</td>\n",
       "      <td>High School</td>\n",
       "      <td>0</td>\n",
       "      <td>&lt; 1 Contract Year</td>\n",
       "      <td>30 - 35 Years</td>\n",
       "      <td>Monthly Contract</td>\n",
       "    </tr>\n",
       "    <tr>\n",
       "      <th>1</th>\n",
       "      <td>10448</td>\n",
       "      <td>Branch_4</td>\n",
       "      <td>Area_91</td>\n",
       "      <td>Rose Brown</td>\n",
       "      <td>M</td>\n",
       "      <td>BLACK</td>\n",
       "      <td>Maintenance Assistant</td>\n",
       "      <td>2302</td>\n",
       "      <td>Definite-Term</td>\n",
       "      <td>High School</td>\n",
       "      <td>0</td>\n",
       "      <td>&lt; 1 Contract Year</td>\n",
       "      <td>50 - 55 Years</td>\n",
       "      <td>Monthly Contract</td>\n",
       "    </tr>\n",
       "    <tr>\n",
       "      <th>2</th>\n",
       "      <td>10399</td>\n",
       "      <td>Branch_4</td>\n",
       "      <td>Area_91</td>\n",
       "      <td>Jessica Sanders</td>\n",
       "      <td>M</td>\n",
       "      <td>HISPANIC</td>\n",
       "      <td>Maintenance Assistant</td>\n",
       "      <td>2399</td>\n",
       "      <td>Definite-Term</td>\n",
       "      <td>High School</td>\n",
       "      <td>0</td>\n",
       "      <td>&lt; 1 Contract Year</td>\n",
       "      <td>30 - 35 Years</td>\n",
       "      <td>Monthly Contract</td>\n",
       "    </tr>\n",
       "    <tr>\n",
       "      <th>3</th>\n",
       "      <td>10401</td>\n",
       "      <td>Branch_4</td>\n",
       "      <td>Area_91</td>\n",
       "      <td>Ethan Clark</td>\n",
       "      <td>M</td>\n",
       "      <td>BLACK</td>\n",
       "      <td>Maintenance Assistant</td>\n",
       "      <td>2302</td>\n",
       "      <td>Definite-Term</td>\n",
       "      <td>High School</td>\n",
       "      <td>0</td>\n",
       "      <td>&lt; 1 Contract Year</td>\n",
       "      <td>25 - 30 Years</td>\n",
       "      <td>Monthly Contract</td>\n",
       "    </tr>\n",
       "    <tr>\n",
       "      <th>4</th>\n",
       "      <td>10469</td>\n",
       "      <td>Branch_4</td>\n",
       "      <td>Area_91</td>\n",
       "      <td>Jesse Reed</td>\n",
       "      <td>M</td>\n",
       "      <td>HISPANIC</td>\n",
       "      <td>Maintenance Technician Jr.</td>\n",
       "      <td>2474</td>\n",
       "      <td>Indefinite-Term</td>\n",
       "      <td>High School</td>\n",
       "      <td>0</td>\n",
       "      <td>&lt; 1 Contract Year</td>\n",
       "      <td>50 - 55 Years</td>\n",
       "      <td>Monthly Contract</td>\n",
       "    </tr>\n",
       "  </tbody>\n",
       "</table>\n",
       "</div>"
      ],
      "text/plain": [
       "   REGISTRATION    BRANCH     AREA             NAME GENDER ETHNICITY  \\\n",
       "0         10881  Branch_4  Area_91       Joan Evans      M  HISPANIC   \n",
       "1         10448  Branch_4  Area_91       Rose Brown      M     BLACK   \n",
       "2         10399  Branch_4  Area_91  Jessica Sanders      M  HISPANIC   \n",
       "3         10401  Branch_4  Area_91      Ethan Clark      M     BLACK   \n",
       "4         10469  Branch_4  Area_91       Jesse Reed      M  HISPANIC   \n",
       "\n",
       "                    JOB_TITLE  SALARY    CONTRACT_TYPE    EDUCATION  PWD  \\\n",
       "0                 Driver Mid.    2271  Indefinite-Term  High School    0   \n",
       "1       Maintenance Assistant    2302    Definite-Term  High School    0   \n",
       "2       Maintenance Assistant    2399    Definite-Term  High School    0   \n",
       "3       Maintenance Assistant    2302    Definite-Term  High School    0   \n",
       "4  Maintenance Technician Jr.    2474  Indefinite-Term  High School    0   \n",
       "\n",
       "       CONTRACT_TIME      AGE_RANGE   CONTRACT_REGIME  \n",
       "0  < 1 Contract Year  30 - 35 Years  Monthly Contract  \n",
       "1  < 1 Contract Year  50 - 55 Years  Monthly Contract  \n",
       "2  < 1 Contract Year  30 - 35 Years  Monthly Contract  \n",
       "3  < 1 Contract Year  25 - 30 Years  Monthly Contract  \n",
       "4  < 1 Contract Year  50 - 55 Years  Monthly Contract  "
      ]
     },
     "execution_count": 3,
     "metadata": {},
     "output_type": "execute_result"
    }
   ],
   "source": [
    "raw_data.head()"
   ]
  },
  {
   "cell_type": "code",
   "execution_count": 5,
   "id": "2de866c0",
   "metadata": {},
   "outputs": [
    {
     "data": {
      "text/plain": [
       "count     1862.000000\n",
       "mean      7676.168636\n",
       "std       6739.893225\n",
       "min         37.000000\n",
       "25%       3038.000000\n",
       "50%       5810.500000\n",
       "75%      10798.000000\n",
       "max      72579.000000\n",
       "Name: SALARY, dtype: float64"
      ]
     },
     "execution_count": 5,
     "metadata": {},
     "output_type": "execute_result"
    }
   ],
   "source": [
    "# Describe the numeric variables\n",
    "raw_data['SALARY'].describe()"
   ]
  },
  {
   "cell_type": "code",
   "execution_count": 10,
   "id": "7ca35b1f",
   "metadata": {},
   "outputs": [
    {
     "data": {
      "text/plain": [
       "REGISTRATION        int64\n",
       "BRANCH             object\n",
       "AREA               object\n",
       "NAME               object\n",
       "GENDER             object\n",
       "ETHNICITY          object\n",
       "JOB_TITLE          object\n",
       "SALARY              int64\n",
       "CONTRACT_TYPE      object\n",
       "EDUCATION          object\n",
       "PWD                 int64\n",
       "CONTRACT_TIME      object\n",
       "AGE_RANGE          object\n",
       "CONTRACT_REGIME    object\n",
       "dtype: object"
      ]
     },
     "execution_count": 10,
     "metadata": {},
     "output_type": "execute_result"
    }
   ],
   "source": [
    "raw_data.dtypes"
   ]
  },
  {
   "cell_type": "code",
   "execution_count": 39,
   "id": "ff5e0df6",
   "metadata": {},
   "outputs": [],
   "source": [
    "raw_data['REGISTRATION'] = raw_data['REGISTRATION'].astype(str)"
   ]
  },
  {
   "cell_type": "code",
   "execution_count": 56,
   "id": "ddf870f3",
   "metadata": {},
   "outputs": [],
   "source": [
    "categorical_variables = ['GENDER','ETHNICITY','JOB_TITLE','CONTRACT_TYPE','EDUCATION','PWD','CONTRACT_TIME','AGE_RANGE','CONTRACT_REGIME']"
   ]
  },
  {
   "cell_type": "code",
   "execution_count": 45,
   "id": "1e0acdc3",
   "metadata": {},
   "outputs": [
    {
     "data": {
      "text/html": [
       "<div>\n",
       "<style scoped>\n",
       "    .dataframe tbody tr th:only-of-type {\n",
       "        vertical-align: middle;\n",
       "    }\n",
       "\n",
       "    .dataframe tbody tr th {\n",
       "        vertical-align: top;\n",
       "    }\n",
       "\n",
       "    .dataframe thead th {\n",
       "        text-align: right;\n",
       "    }\n",
       "</style>\n",
       "<table border=\"1\" class=\"dataframe\">\n",
       "  <thead>\n",
       "    <tr style=\"text-align: right;\">\n",
       "      <th></th>\n",
       "      <th>GENDER</th>\n",
       "      <th>REGISTRATION</th>\n",
       "    </tr>\n",
       "  </thead>\n",
       "  <tbody>\n",
       "    <tr>\n",
       "      <th>0</th>\n",
       "      <td>F</td>\n",
       "      <td>653</td>\n",
       "    </tr>\n",
       "    <tr>\n",
       "      <th>1</th>\n",
       "      <td>M</td>\n",
       "      <td>1209</td>\n",
       "    </tr>\n",
       "  </tbody>\n",
       "</table>\n",
       "</div>"
      ],
      "text/plain": [
       "  GENDER  REGISTRATION\n",
       "0      F           653\n",
       "1      M          1209"
      ]
     },
     "execution_count": 45,
     "metadata": {},
     "output_type": "execute_result"
    }
   ],
   "source": [
    "raw_data[['REGISTRATION','GENDER']].groupby('GENDER').count().reset_index()"
   ]
  },
  {
   "cell_type": "code",
   "execution_count": 60,
   "id": "68732498",
   "metadata": {},
   "outputs": [
    {
     "data": {
      "text/html": [
       "<div>\n",
       "<style scoped>\n",
       "    .dataframe tbody tr th:only-of-type {\n",
       "        vertical-align: middle;\n",
       "    }\n",
       "\n",
       "    .dataframe tbody tr th {\n",
       "        vertical-align: top;\n",
       "    }\n",
       "\n",
       "    .dataframe thead th {\n",
       "        text-align: right;\n",
       "    }\n",
       "</style>\n",
       "<table border=\"1\" class=\"dataframe\">\n",
       "  <thead>\n",
       "    <tr style=\"text-align: right;\">\n",
       "      <th></th>\n",
       "      <th>JOB_TITLE</th>\n",
       "      <th>REGISTRATION</th>\n",
       "    </tr>\n",
       "  </thead>\n",
       "  <tbody>\n",
       "    <tr>\n",
       "      <th>0</th>\n",
       "      <td>Academic Leader</td>\n",
       "      <td>3</td>\n",
       "    </tr>\n",
       "    <tr>\n",
       "      <th>1</th>\n",
       "      <td>Academic Secretary Assistant</td>\n",
       "      <td>1</td>\n",
       "    </tr>\n",
       "    <tr>\n",
       "      <th>2</th>\n",
       "      <td>Academic Secretary Sr.</td>\n",
       "      <td>2</td>\n",
       "    </tr>\n",
       "    <tr>\n",
       "      <th>3</th>\n",
       "      <td>Adjunct Professor</td>\n",
       "      <td>42</td>\n",
       "    </tr>\n",
       "    <tr>\n",
       "      <th>4</th>\n",
       "      <td>Administrative Analyst Jr.</td>\n",
       "      <td>2</td>\n",
       "    </tr>\n",
       "    <tr>\n",
       "      <th>...</th>\n",
       "      <td>...</td>\n",
       "      <td>...</td>\n",
       "    </tr>\n",
       "    <tr>\n",
       "      <th>103</th>\n",
       "      <td>Technical Leader</td>\n",
       "      <td>66</td>\n",
       "    </tr>\n",
       "    <tr>\n",
       "      <th>104</th>\n",
       "      <td>Technical Specialist Jr.</td>\n",
       "      <td>150</td>\n",
       "    </tr>\n",
       "    <tr>\n",
       "      <th>105</th>\n",
       "      <td>Technical Specialist Mid.</td>\n",
       "      <td>278</td>\n",
       "    </tr>\n",
       "    <tr>\n",
       "      <th>106</th>\n",
       "      <td>Technical Specialist Sr.</td>\n",
       "      <td>91</td>\n",
       "    </tr>\n",
       "    <tr>\n",
       "      <th>107</th>\n",
       "      <td>Technical Specialist Staff</td>\n",
       "      <td>8</td>\n",
       "    </tr>\n",
       "  </tbody>\n",
       "</table>\n",
       "<p>108 rows × 2 columns</p>\n",
       "</div>"
      ],
      "text/plain": [
       "                        JOB_TITLE  REGISTRATION\n",
       "0                 Academic Leader             3\n",
       "1    Academic Secretary Assistant             1\n",
       "2          Academic Secretary Sr.             2\n",
       "3               Adjunct Professor            42\n",
       "4      Administrative Analyst Jr.             2\n",
       "..                            ...           ...\n",
       "103              Technical Leader            66\n",
       "104      Technical Specialist Jr.           150\n",
       "105     Technical Specialist Mid.           278\n",
       "106      Technical Specialist Sr.            91\n",
       "107    Technical Specialist Staff             8\n",
       "\n",
       "[108 rows x 2 columns]"
      ]
     },
     "execution_count": 60,
     "metadata": {},
     "output_type": "execute_result"
    }
   ],
   "source": [
    "raw_data[['REGISTRATION','JOB_TITLE']].groupby('JOB_TITLE').count().reset_index()"
   ]
  },
  {
   "cell_type": "code",
   "execution_count": 54,
   "id": "8f59a9bb",
   "metadata": {},
   "outputs": [
    {
     "data": {
      "text/plain": [
       "[Text(0, -50, '653'), Text(0, -50, '1209')]"
      ]
     },
     "execution_count": 54,
     "metadata": {},
     "output_type": "execute_result"
    },
    {
     "data": {
      "image/png": "[encoded data removed]",
      "text/plain": [
       "<Figure size 640x480 with 1 Axes>"
      ]
     },
     "metadata": {},
     "output_type": "display_data"
    }
   ],
   "source": [
    "ax = sns.barplot(x='GENDER', y='REGISTRATION', data=raw_data[['REGISTRATION','GENDER']].groupby('GENDER').count().reset_index())\n",
    "ax.bar_label(ax.containers[0], fontsize=10, padding=-50)"
   ]
  }
 ],
 "metadata": {
  "kernelspec": {
   "display_name": "base",
   "language": "python",
   "name": "python3"
  },
  "language_info": {
   "codemirror_mode": {
    "name": "ipython",
    "version": 3
   },
   "file_extension": ".py",
   "mimetype": "text/x-python",
   "name": "python",
   "nbconvert_exporter": "python",
   "pygments_lexer": "ipython3",
   "version": "3.12.7"
  }
 },
 "nbformat": 4,
 "nbformat_minor": 5
}
